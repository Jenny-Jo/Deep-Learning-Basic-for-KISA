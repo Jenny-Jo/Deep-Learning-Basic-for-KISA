{
  "nbformat": 4,
  "nbformat_minor": 0,
  "metadata": {
    "colab": {
      "name": "PyTorch의 Tensor",
      "provenance": [],
      "collapsed_sections": [],
      "include_colab_link": true
    },
    "kernelspec": {
      "name": "python3",
      "display_name": "Python 3"
    }
  },
  "cells": [
    {
      "cell_type": "markdown",
      "metadata": {
        "id": "view-in-github",
        "colab_type": "text"
      },
      "source": [
        "<a href=\"https://colab.research.google.com/github/ndb796/Deep-Learning-Basic-for-KISA/blob/master/PyTorch%EC%9D%98_Tensor.ipynb\" target=\"_parent\"><img src=\"https://colab.research.google.com/assets/colab-badge.svg\" alt=\"Open In Colab\"/></a>"
      ]
    },
    {
      "cell_type": "markdown",
      "metadata": {
        "id": "GUeiRbluTVyL",
        "colab_type": "text"
      },
      "source": [
        "### <b>Tensor 만들기</b>"
      ]
    },
    {
      "cell_type": "code",
      "metadata": {
        "id": "2P7PXE5eTWX3",
        "colab_type": "code",
        "colab": {
          "base_uri": "https://localhost:8080/",
          "height": 263
        },
        "outputId": "b8df6b14-31ec-4288-848f-f5c5a9e3886a"
      },
      "source": [
        "import torch\n",
        "\n",
        "# 리스트를 Tensor로 변환\n",
        "a = torch.tensor([1, 2, 3])\n",
        "print(a)\n",
        "\n",
        "# 값이 초기화되지 않은 행렬을 생성\n",
        "a = torch.empty(4, 5)\n",
        "print(a)\n",
        "\n",
        "# 랜덤 값(uniform)으로 초기화된 행렬을 생성 (기본: 실수형)\n",
        "a = torch.rand(4, 5)\n",
        "print(a)\n",
        "\n",
        "# 0으로 초기화된 행렬을 생성 (정수형)\n",
        "a = torch.zeros((5, 3), dtype=torch.long)\n",
        "print(a)"
      ],
      "execution_count": null,
      "outputs": [
        {
          "output_type": "stream",
          "text": [
            "tensor([1, 2, 3])\n",
            "tensor([[2.7287e-36, 0.0000e+00, 0.0000e+00, 0.0000e+00, 0.0000e+00],\n",
            "        [0.0000e+00, 0.0000e+00, 0.0000e+00, 0.0000e+00, 0.0000e+00],\n",
            "        [0.0000e+00, 0.0000e+00, 0.0000e+00, 0.0000e+00, 0.0000e+00],\n",
            "        [0.0000e+00, 0.0000e+00, 0.0000e+00, 0.0000e+00, 0.0000e+00]])\n",
            "tensor([[0.8527, 0.0309, 0.6508, 0.5501, 0.1615],\n",
            "        [0.7001, 0.7300, 0.4202, 0.5947, 0.4684],\n",
            "        [0.5614, 0.0432, 0.1355, 0.1070, 0.9445],\n",
            "        [0.4255, 0.8141, 0.5428, 0.9845, 0.4888]])\n",
            "tensor([[0, 0, 0],\n",
            "        [0, 0, 0],\n",
            "        [0, 0, 0],\n",
            "        [0, 0, 0],\n",
            "        [0, 0, 0]])\n"
          ],
          "name": "stdout"
        }
      ]
    },
    {
      "cell_type": "markdown",
      "metadata": {
        "id": "A1AztegpTZQv",
        "colab_type": "text"
      },
      "source": [
        "### <b>Tensor 더하기</b>"
      ]
    },
    {
      "cell_type": "code",
      "metadata": {
        "id": "40h1sjS3TWuL",
        "colab_type": "code",
        "colab": {
          "base_uri": "https://localhost:8080/",
          "height": 52
        },
        "outputId": "fdc58c74-0ec4-4ed8-ac46-368ad75674bc"
      },
      "source": [
        "import torch\n",
        "\n",
        "# Tensor를 만들고 크기를 출력\n",
        "a = torch.tensor([1, 1])\n",
        "print(a.size())\n",
        "\n",
        "# Tensor 더하기\n",
        "b = torch.tensor([2, 3])\n",
        "c = a + b\n",
        "\n",
        "print(c)"
      ],
      "execution_count": null,
      "outputs": [
        {
          "output_type": "stream",
          "text": [
            "torch.Size([2])\n",
            "tensor([3, 4])\n"
          ],
          "name": "stdout"
        }
      ]
    },
    {
      "cell_type": "markdown",
      "metadata": {
        "id": "Awrc4zbvZPci",
        "colab_type": "text"
      },
      "source": [
        "### <b>Tensor 곱하기</b>\n",
        "\n",
        "* 기본적인 Tensor의 곱셈은 동일한 위치의 원소끼리 곱하는 연산을 의미합니다."
      ]
    },
    {
      "cell_type": "code",
      "metadata": {
        "id": "Hx2h0apMY8t6",
        "colab_type": "code",
        "colab": {
          "base_uri": "https://localhost:8080/",
          "height": 52
        },
        "outputId": "69ed9602-15c4-4ea2-f50c-8b6b3423bd68"
      },
      "source": [
        "import torch\n",
        "\n",
        "# Tensor 곱하기\n",
        "a = torch.tensor([[0, 1], [2, 3]])\n",
        "b = torch.tensor([[1, 2], [3, 4]])\n",
        "c = a * b\n",
        "\n",
        "print(c)"
      ],
      "execution_count": null,
      "outputs": [
        {
          "output_type": "stream",
          "text": [
            "tensor([[ 0,  2],\n",
            "        [ 6, 12]])\n"
          ],
          "name": "stdout"
        }
      ]
    },
    {
      "cell_type": "markdown",
      "metadata": {
        "id": "ZEL8pdm9ZWOR",
        "colab_type": "text"
      },
      "source": [
        "### <b>Tensor의 행렬 곱</b>\n",
        "\n",
        "* Tensor는 행렬 곱 연산을 지원합니다."
      ]
    },
    {
      "cell_type": "code",
      "metadata": {
        "id": "2TSXAIb2ZSc1",
        "colab_type": "code",
        "colab": {
          "base_uri": "https://localhost:8080/",
          "height": 52
        },
        "outputId": "10565a2c-a77a-4206-d564-71d57ef24a7f"
      },
      "source": [
        "import torch\n",
        "\n",
        "# Tensor 곱하기\n",
        "a = torch.tensor([[0, 1], [2, 3]])\n",
        "b = torch.tensor([[1, 2], [3, 4]])\n",
        "c = torch.matmul(a, b)\n",
        "\n",
        "print(c)"
      ],
      "execution_count": null,
      "outputs": [
        {
          "output_type": "stream",
          "text": [
            "tensor([[ 3,  4],\n",
            "        [11, 16]])\n"
          ],
          "name": "stdout"
        }
      ]
    },
    {
      "cell_type": "markdown",
      "metadata": {
        "id": "hf83fxJDZbh5",
        "colab_type": "text"
      },
      "source": [
        "### <b>서로 다른 형태의 Tensor 연산</b>\n",
        "\n",
        "* 브로드캐스트: 형태가 다른 행렬을 연산할 수 있도록 행렬의 형태를 동적으로 변환합니다."
      ]
    },
    {
      "cell_type": "code",
      "metadata": {
        "id": "yuUyWlVUZdLR",
        "colab_type": "code",
        "colab": {
          "base_uri": "https://localhost:8080/",
          "height": 52
        },
        "outputId": "c69dc8ab-57d5-4c13-c0fe-1c8640a7a3c1"
      },
      "source": [
        "import torch\n",
        "\n",
        "# Tensor 브로드캐스트\n",
        "a = torch.tensor([1, 2, 3])\n",
        "b = torch.tensor([[1, 2, 3], [1, 2, 3]])\n",
        "c = a + b\n",
        "\n",
        "print(c)"
      ],
      "execution_count": null,
      "outputs": [
        {
          "output_type": "stream",
          "text": [
            "tensor([[2, 4, 6],\n",
            "        [2, 4, 6]])\n"
          ],
          "name": "stdout"
        }
      ]
    },
    {
      "cell_type": "markdown",
      "metadata": {
        "id": "fKpVqanaZg_R",
        "colab_type": "text"
      },
      "source": [
        "### <b>Tensor 형태 변경</b>\n",
        "\n",
        "* Tensor는 인덱싱 표기법을 사용할 수 있습니다.\n",
        "* 다양한 방법으로 형태를 변경할 수 있습니다."
      ]
    },
    {
      "cell_type": "code",
      "metadata": {
        "id": "Yg-oZGttZeUF",
        "colab_type": "code",
        "colab": {
          "base_uri": "https://localhost:8080/",
          "height": 158
        },
        "outputId": "6d8621e1-172c-4458-d7af-2f0c6394d4a5"
      },
      "source": [
        "import torch\n",
        "\n",
        "a = torch.tensor([\n",
        "    [0, 1, 2, 3],\n",
        "    [4, 5, 6, 7],\n",
        "    [0, 1, 2, 3],\n",
        "    [4, 5, 6, 7]\n",
        "])\n",
        "\n",
        "print(a[:, 2])\n",
        "a = a.view(16)\n",
        "print(a)\n",
        "a = a.view(4, 4)\n",
        "print(a)\n",
        "a = a.view(-1, 8)\n",
        "print(a)"
      ],
      "execution_count": null,
      "outputs": [
        {
          "output_type": "stream",
          "text": [
            "tensor([2, 6, 2, 6])\n",
            "tensor([0, 1, 2, 3, 4, 5, 6, 7, 0, 1, 2, 3, 4, 5, 6, 7])\n",
            "tensor([[0, 1, 2, 3],\n",
            "        [4, 5, 6, 7],\n",
            "        [0, 1, 2, 3],\n",
            "        [4, 5, 6, 7]])\n",
            "tensor([[0, 1, 2, 3, 4, 5, 6, 7],\n",
            "        [0, 1, 2, 3, 4, 5, 6, 7]])\n"
          ],
          "name": "stdout"
        }
      ]
    },
    {
      "cell_type": "markdown",
      "metadata": {
        "id": "c5kFh6e2Z0p4",
        "colab_type": "text"
      },
      "source": [
        "### <b>Tensor와 NumPy 변환</b>\n"
      ]
    },
    {
      "cell_type": "code",
      "metadata": {
        "id": "96HMC0hwZjvw",
        "colab_type": "code",
        "colab": {
          "base_uri": "https://localhost:8080/",
          "height": 122
        },
        "outputId": "4fe9e43f-e24e-4466-8d8d-8c99e3f549ad"
      },
      "source": [
        "import torch\n",
        "import numpy as np\n",
        "\n",
        "a = torch.tensor([\n",
        "    [0, 1, 2, 3],\n",
        "    [4, 5, 6, 7]\n",
        "])\n",
        "print(a)\n",
        "\n",
        "b = a.numpy()\n",
        "print(b)\n",
        "\n",
        "c = torch.from_numpy(b)\n",
        "print(c)"
      ],
      "execution_count": null,
      "outputs": [
        {
          "output_type": "stream",
          "text": [
            "tensor([[0, 1, 2, 3],\n",
            "        [4, 5, 6, 7]])\n",
            "[[0 1 2 3]\n",
            " [4 5 6 7]]\n",
            "tensor([[0, 1, 2, 3],\n",
            "        [4, 5, 6, 7]])\n"
          ],
          "name": "stdout"
        }
      ]
    }
  ]
}